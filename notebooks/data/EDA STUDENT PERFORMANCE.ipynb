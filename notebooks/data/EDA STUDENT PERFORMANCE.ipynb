{
 "cells": [
  {
   "cell_type": "code",
   "execution_count": 2,
   "metadata": {},
   "outputs": [
    {
     "name": "stdout",
     "output_type": "stream",
     "text": [
      "Collecting numpy\n",
      "  Downloading numpy-1.24.4-cp38-cp38-win_amd64.whl.metadata (5.6 kB)\n",
      "Downloading numpy-1.24.4-cp38-cp38-win_amd64.whl (14.9 MB)\n",
      "   ---------------------------------------- 0.0/14.9 MB ? eta -:--:--\n",
      "   --- ------------------------------------ 1.3/14.9 MB 6.1 MB/s eta 0:00:03\n",
      "   ------- -------------------------------- 2.9/14.9 MB 7.3 MB/s eta 0:00:02\n",
      "   ---------- ----------------------------- 3.9/14.9 MB 6.5 MB/s eta 0:00:02\n",
      "   --------------- ------------------------ 5.8/14.9 MB 6.8 MB/s eta 0:00:02\n",
      "   -------------------- ------------------- 7.6/14.9 MB 7.5 MB/s eta 0:00:01\n",
      "   ----------------------- ---------------- 8.9/14.9 MB 7.1 MB/s eta 0:00:01\n",
      "   ---------------------------- ----------- 10.5/14.9 MB 7.2 MB/s eta 0:00:01\n",
      "   ------------------------------- -------- 11.5/14.9 MB 6.9 MB/s eta 0:00:01\n",
      "   ---------------------------------- ----- 12.8/14.9 MB 6.8 MB/s eta 0:00:01\n",
      "   -------------------------------------- - 14.2/14.9 MB 6.7 MB/s eta 0:00:01\n",
      "   ---------------------------------------- 14.9/14.9 MB 6.7 MB/s eta 0:00:00\n",
      "Installing collected packages: numpy\n",
      "Successfully installed numpy-1.24.4\n"
     ]
    }
   ],
   "source": [
    "!pip install numpy"
   ]
  },
  {
   "cell_type": "code",
   "execution_count": 3,
   "metadata": {},
   "outputs": [],
   "source": [
    "import numpy as np\n",
    "import "
   ]
  }
 ],
 "metadata": {
  "kernelspec": {
   "display_name": "myenv",
   "language": "python",
   "name": "python3"
  },
  "language_info": {
   "codemirror_mode": {
    "name": "ipython",
    "version": 3
   },
   "file_extension": ".py",
   "mimetype": "text/x-python",
   "name": "python",
   "nbconvert_exporter": "python",
   "pygments_lexer": "ipython3",
   "version": "3.8.20"
  }
 },
 "nbformat": 4,
 "nbformat_minor": 2
}
